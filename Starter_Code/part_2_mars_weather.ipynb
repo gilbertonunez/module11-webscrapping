{
 "cells": [
  {
   "attachments": {},
   "cell_type": "markdown",
   "metadata": {},
   "source": [
    "# Module 12 Challenge\n",
    "## Deliverable 2: Scrape and Analyze Mars Weather Data"
   ]
  },
  {
   "cell_type": "code",
   "execution_count": 1,
   "metadata": {},
   "outputs": [],
   "source": [
    "# Import relevant libraries\n",
    "from splinter import Browser\n",
    "from bs4 import BeautifulSoup\n",
    "import matplotlib.pyplot as plt\n",
    "import pandas as pd"
   ]
  },
  {
   "cell_type": "code",
   "execution_count": 2,
   "metadata": {},
   "outputs": [],
   "source": [
    "browser = Browser('chrome')"
   ]
  },
  {
   "attachments": {},
   "cell_type": "markdown",
   "metadata": {},
   "source": [
    "### Step 1: Visit the Website\n",
    "\n",
    "Use automated browsing to visit the [Mars Temperature Data Site](https://static.bc-edx.com/data/web/mars_facts/temperature.html). Inspect the page to identify which elements to scrape.\n",
    "\n",
    "   > **Hint** To identify which elements to scrape, you might want to inspect the page by using Chrome DevTools to discover whether the table contains usable classes.\n"
   ]
  },
  {
   "cell_type": "code",
   "execution_count": 3,
   "metadata": {},
   "outputs": [],
   "source": [
    "# Visit the website\n",
    "# https://static.bc-edx.com/data/web/mars_facts/temperature.html\n",
    "url = \"https://static.bc-edx.com/data/web/mars_facts/temperature.html\"\n",
    "browser.visit(url)"
   ]
  },
  {
   "attachments": {},
   "cell_type": "markdown",
   "metadata": {},
   "source": [
    "### Step 2: Scrape the Table\n",
    "\n",
    "Create a Beautiful Soup object and use it to scrape the data in the HTML table.\n",
    "\n",
    "Note that this can also be achieved by using the Pandas `read_html` function. However, use Beautiful Soup here to continue sharpening your web scraping skills."
   ]
  },
  {
   "cell_type": "code",
   "execution_count": 4,
   "metadata": {},
   "outputs": [],
   "source": [
    "# Create a Beautiful Soup Object\n",
    "html = browser.html\n",
    "soup = BeautifulSoup(html, 'html.parser')\n"
   ]
  },
  {
   "cell_type": "code",
   "execution_count": 5,
   "metadata": {},
   "outputs": [],
   "source": [
    "# Extract all rows of data\n",
    "table_data = soup.find_all('tr', class_='data-row')\n"
   ]
  },
  {
   "attachments": {},
   "cell_type": "markdown",
   "metadata": {},
   "source": [
    "### Step 3: Store the Data\n",
    "\n",
    "Assemble the scraped data into a Pandas DataFrame. The columns should have the same headings as the table on the website. Here’s an explanation of the column headings:\n",
    "\n",
    "* `id`: the identification number of a single transmission from the Curiosity rover\n",
    "* `terrestrial_date`: the date on Earth\n",
    "* `sol`: the number of elapsed sols (Martian days) since Curiosity landed on Mars\n",
    "* `ls`: the solar longitude\n",
    "* `month`: the Martian month\n",
    "* `min_temp`: the minimum temperature, in Celsius, of a single Martian day (sol)\n",
    "* `pressure`: The atmospheric pressure at Curiosity's location"
   ]
  },
  {
   "cell_type": "code",
   "execution_count": 6,
   "metadata": {},
   "outputs": [],
   "source": [
    "# Create an empty list\n",
    "list_of_rows = []\n",
    "\n",
    "# Loop through the scraped data to create a list of rows\n",
    "for row in table_data:\n",
    "    row_data = row.find_all('td')  # Extract individual cells of the row\n",
    "    row_values = [cell.text for cell in row_data]  # Extract the text from each cell\n",
    "    list_of_rows.append(row_values)  # Append the row data to the list_of_rows"
   ]
  },
  {
   "cell_type": "code",
   "execution_count": 7,
   "metadata": {},
   "outputs": [],
   "source": [
    "# Create a Pandas DataFrame by using the list of rows and a list of the column names\n",
    "column_names = ['id', 'terrestrial_date', 'sol', 'ls', 'month', 'min_temp', 'pressure']\n",
    "mars_temp_data_df = pd.DataFrame(list_of_rows, columns=column_names)\n"
   ]
  },
  {
   "cell_type": "code",
   "execution_count": 8,
   "metadata": {},
   "outputs": [
    {
     "data": {
      "text/html": [
       "<div>\n",
       "<style scoped>\n",
       "    .dataframe tbody tr th:only-of-type {\n",
       "        vertical-align: middle;\n",
       "    }\n",
       "\n",
       "    .dataframe tbody tr th {\n",
       "        vertical-align: top;\n",
       "    }\n",
       "\n",
       "    .dataframe thead th {\n",
       "        text-align: right;\n",
       "    }\n",
       "</style>\n",
       "<table border=\"1\" class=\"dataframe\">\n",
       "  <thead>\n",
       "    <tr style=\"text-align: right;\">\n",
       "      <th></th>\n",
       "      <th>id</th>\n",
       "      <th>terrestrial_date</th>\n",
       "      <th>sol</th>\n",
       "      <th>ls</th>\n",
       "      <th>month</th>\n",
       "      <th>min_temp</th>\n",
       "      <th>pressure</th>\n",
       "    </tr>\n",
       "  </thead>\n",
       "  <tbody>\n",
       "    <tr>\n",
       "      <th>0</th>\n",
       "      <td>2</td>\n",
       "      <td>2012-08-16</td>\n",
       "      <td>10</td>\n",
       "      <td>155</td>\n",
       "      <td>6</td>\n",
       "      <td>-75.0</td>\n",
       "      <td>739.0</td>\n",
       "    </tr>\n",
       "    <tr>\n",
       "      <th>1</th>\n",
       "      <td>13</td>\n",
       "      <td>2012-08-17</td>\n",
       "      <td>11</td>\n",
       "      <td>156</td>\n",
       "      <td>6</td>\n",
       "      <td>-76.0</td>\n",
       "      <td>740.0</td>\n",
       "    </tr>\n",
       "    <tr>\n",
       "      <th>2</th>\n",
       "      <td>24</td>\n",
       "      <td>2012-08-18</td>\n",
       "      <td>12</td>\n",
       "      <td>156</td>\n",
       "      <td>6</td>\n",
       "      <td>-76.0</td>\n",
       "      <td>741.0</td>\n",
       "    </tr>\n",
       "    <tr>\n",
       "      <th>3</th>\n",
       "      <td>35</td>\n",
       "      <td>2012-08-19</td>\n",
       "      <td>13</td>\n",
       "      <td>157</td>\n",
       "      <td>6</td>\n",
       "      <td>-74.0</td>\n",
       "      <td>732.0</td>\n",
       "    </tr>\n",
       "    <tr>\n",
       "      <th>4</th>\n",
       "      <td>46</td>\n",
       "      <td>2012-08-20</td>\n",
       "      <td>14</td>\n",
       "      <td>157</td>\n",
       "      <td>6</td>\n",
       "      <td>-74.0</td>\n",
       "      <td>740.0</td>\n",
       "    </tr>\n",
       "  </tbody>\n",
       "</table>\n",
       "</div>"
      ],
      "text/plain": [
       "   id terrestrial_date sol   ls month min_temp pressure\n",
       "0   2       2012-08-16  10  155     6    -75.0    739.0\n",
       "1  13       2012-08-17  11  156     6    -76.0    740.0\n",
       "2  24       2012-08-18  12  156     6    -76.0    741.0\n",
       "3  35       2012-08-19  13  157     6    -74.0    732.0\n",
       "4  46       2012-08-20  14  157     6    -74.0    740.0"
      ]
     },
     "execution_count": 8,
     "metadata": {},
     "output_type": "execute_result"
    }
   ],
   "source": [
    "# Confirm DataFrame was created successfully\n",
    "mars_temp_data_df.head()\n"
   ]
  },
  {
   "attachments": {},
   "cell_type": "markdown",
   "metadata": {},
   "source": [
    "### Step 4: Prepare Data for Analysis\n",
    "\n",
    "Examine the data types that are currently associated with each column. If necessary, cast (or convert) the data to the appropriate `datetime`, `int`, or `float` data types.\n",
    "\n",
    "  > **Hint** You can use the Pandas `astype` and `to_datetime` methods to accomplish this task.\n"
   ]
  },
  {
   "cell_type": "code",
   "execution_count": 9,
   "metadata": {},
   "outputs": [
    {
     "name": "stdout",
     "output_type": "stream",
     "text": [
      "id                  object\n",
      "terrestrial_date    object\n",
      "sol                 object\n",
      "ls                  object\n",
      "month               object\n",
      "min_temp            object\n",
      "pressure            object\n",
      "dtype: object\n"
     ]
    }
   ],
   "source": [
    "# Examine data type of each column\n",
    "print(mars_temp_data_df.dtypes)\n"
   ]
  },
  {
   "cell_type": "code",
   "execution_count": 10,
   "metadata": {},
   "outputs": [],
   "source": [
    "# Change data types for data analysis\n",
    "mars_temp_data_df['terrestrial_date'] = pd.to_datetime(mars_temp_data_df['terrestrial_date'])\n",
    "mars_temp_data_df['sol'] = mars_temp_data_df['sol'].astype('int64')\n",
    "mars_temp_data_df['ls'] = mars_temp_data_df['ls'].astype('int64')\n",
    "mars_temp_data_df['month'] = mars_temp_data_df['month'].astype('int64')\n",
    "mars_temp_data_df['min_temp'] = mars_temp_data_df['min_temp'].astype('float64')\n",
    "mars_temp_data_df['pressure'] = mars_temp_data_df['pressure'].astype('float64')"
   ]
  },
  {
   "cell_type": "code",
   "execution_count": 11,
   "metadata": {},
   "outputs": [
    {
     "name": "stdout",
     "output_type": "stream",
     "text": [
      "id                          object\n",
      "terrestrial_date    datetime64[ns]\n",
      "sol                          int64\n",
      "ls                           int64\n",
      "month                        int64\n",
      "min_temp                   float64\n",
      "pressure                   float64\n",
      "dtype: object\n"
     ]
    }
   ],
   "source": [
    "# Confirm type changes were successful by examining data types again\n",
    "print(mars_temp_data_df.dtypes)\n"
   ]
  },
  {
   "attachments": {},
   "cell_type": "markdown",
   "metadata": {},
   "source": [
    "### Step 5: Analyze the Data\n",
    "\n",
    "Analyze your dataset by using Pandas functions to answer the following questions:\n",
    "\n",
    "1. How many months exist on Mars?\n",
    "2. How many Martian (and not Earth) days worth of data exist in the scraped dataset?\n",
    "3. What are the coldest and the warmest months on Mars (at the location of Curiosity)? To answer this question:\n",
    "    * Find the average the minimum daily temperature for all of the months.\n",
    "    * Plot the results as a bar chart.\n",
    "4. Which months have the lowest and the highest atmospheric pressure on Mars? To answer this question:\n",
    "    * Find the average the daily atmospheric pressure of all the months.\n",
    "    * Plot the results as a bar chart.\n",
    "5. About how many terrestrial (Earth) days exist in a Martian year? To answer this question:\n",
    "    * Consider how many days elapse on Earth in the time that Mars circles the Sun once.\n",
    "    * Visually estimate the result by plotting the daily minimum temperature.\n"
   ]
  },
  {
   "cell_type": "code",
   "execution_count": 12,
   "metadata": {},
   "outputs": [
    {
     "name": "stdout",
     "output_type": "stream",
     "text": [
      "month\n",
      "1     174\n",
      "2     178\n",
      "3     192\n",
      "4     194\n",
      "5     149\n",
      "6     147\n",
      "7     142\n",
      "8     141\n",
      "9     134\n",
      "10    112\n",
      "11    138\n",
      "12    166\n",
      "Name: count, dtype: int64\n"
     ]
    }
   ],
   "source": [
    "# 1. How many months are there on Mars?\n",
    "month_counts = mars_temp_data_df['month'].value_counts()\n",
    "sorted_month_counts = month_counts.sort_index()\n",
    "print(sorted_month_counts)\n"
   ]
  },
  {
   "cell_type": "code",
   "execution_count": 13,
   "metadata": {},
   "outputs": [
    {
     "data": {
      "text/plain": [
       "1867"
      ]
     },
     "execution_count": 13,
     "metadata": {},
     "output_type": "execute_result"
    }
   ],
   "source": [
    "# 2. How many Martian days' worth of data are there?\n",
    "num_unique_sols = mars_temp_data_df['sol'].nunique()\n",
    "num_unique_sols\n"
   ]
  },
  {
   "cell_type": "code",
   "execution_count": 14,
   "metadata": {},
   "outputs": [
    {
     "name": "stdout",
     "output_type": "stream",
     "text": [
      "month\n",
      "1    -77.160920\n",
      "2    -79.932584\n",
      "3    -83.307292\n",
      "4    -82.747423\n",
      "5    -79.308725\n",
      "6    -75.299320\n",
      "7    -72.281690\n",
      "8    -68.382979\n",
      "9    -69.171642\n",
      "10   -71.982143\n",
      "11   -71.985507\n",
      "12   -74.451807\n",
      "Name: min_temp, dtype: float64\n"
     ]
    }
   ],
   "source": [
    "# 3. What is the average low temperature by month?\n",
    "average_low_temp_by_month = mars_temp_data_df.groupby('month')['min_temp'].mean()\n",
    "print(average_low_temp_by_month)\n"
   ]
  },
  {
   "cell_type": "code",
   "execution_count": 15,
   "metadata": {},
   "outputs": [
    {
     "data": {
      "image/png": "[encoded data removed]",
      "text/plain": [
       "<Figure size 600x450 with 1 Axes>"
      ]
     },
     "metadata": {},
     "output_type": "display_data"
    }
   ],
   "source": [
    "# Plot the average temperature by month\n",
    "# Convert 'average_low_temp_by_month' Series to DataFrame for plotting\n",
    "average_temp_df = average_low_temp_by_month.reset_index()\n",
    "average_temp_df.columns = ['Month', 'Average Temperature']\n",
    "\n",
    "# Create a bar plot\n",
    "plt.figure(figsize=(6, 4.5))\n",
    "bar_width = 0.5\n",
    "plt.bar(average_temp_df['Month'], average_temp_df['Average Temperature'], width=bar_width,align='center')\n",
    "\n",
    "# Set x-axis tick positions and labels\n",
    "plt.xticks(average_temp_df['Month'], average_temp_df['Month'], rotation=90)\n",
    "\n",
    "# Add labels and title\n",
    "plt.xlabel('month')\n",
    "plt.ylabel('Temperature in Celsius')\n",
    "\n",
    "# Show the plot\n",
    "plt.show()"
   ]
  },
  {
   "cell_type": "code",
   "execution_count": 16,
   "metadata": {},
   "outputs": [
    {
     "data": {
      "image/png": "[encoded data removed]",
      "text/plain": [
       "<Figure size 600x450 with 1 Axes>"
      ]
     },
     "metadata": {},
     "output_type": "display_data"
    }
   ],
   "source": [
    "# Identify the coldest and hottest months in Curiosity's location\n",
    "# Sort the average low temperature data in ascending order\n",
    "sorted_low_temp = average_low_temp_by_month.sort_values()\n",
    "\n",
    "# Convert 'sorted_low_temp' Series to DataFrame for plotting\n",
    "sorted_low_temp_df = sorted_low_temp.reset_index()\n",
    "\n",
    "# Rename the columns\n",
    "sorted_low_temp_df.columns = ['Month', 'Average Low Temperature']\n",
    "\n",
    "# Get unique months in the order they appear in the DataFrame\n",
    "desired_order = sorted_low_temp_df['Month'].tolist()\n",
    "\n",
    "# Convert the \"Month\" column to strings\n",
    "sorted_low_temp_df['Month'] = sorted_low_temp_df['Month'].astype(str)\n",
    "\n",
    "# Set the \"Month\" column as a categorical variable with the desired order\n",
    "sorted_low_temp_df['Month'] = pd.Categorical(sorted_low_temp_df['Month'], categories=[str(m) for m in desired_order], ordered=True)\n",
    "\n",
    "# Create a bar plot with the desired order of months\n",
    "plt.figure(figsize=(6, 4.5))\n",
    "bar_width = 0.5\n",
    "plt.bar(sorted_low_temp_df['Month'], sorted_low_temp_df['Average Low Temperature'], width=bar_width, align='center')\n",
    "\n",
    "# Rotate x-tick labels\n",
    "plt.xticks(rotation=90)\n",
    "\n",
    "# Add labels and title\n",
    "plt.xlabel('month')\n",
    "plt.ylabel('Temperature in Celsius')\n",
    "\n",
    "# Show the plot\n",
    "plt.tight_layout()\n",
    "plt.show()"
   ]
  },
  {
   "cell_type": "code",
   "execution_count": 17,
   "metadata": {},
   "outputs": [
    {
     "name": "stdout",
     "output_type": "stream",
     "text": [
      "month\n",
      "1     862.488506\n",
      "2     889.455056\n",
      "3     877.322917\n",
      "4     806.329897\n",
      "5     748.557047\n",
      "6     745.054422\n",
      "7     795.105634\n",
      "8     873.829787\n",
      "9     913.305970\n",
      "10    887.312500\n",
      "11    857.014493\n",
      "12    842.156627\n",
      "Name: pressure, dtype: float64\n"
     ]
    }
   ],
   "source": [
    "# 4. Average pressure by Martian month\n",
    "# Group the data by month and calculate the average pressure\n",
    "average_pressure_by_month = mars_temp_data_df.groupby('month')['pressure'].mean()\n",
    "\n",
    "# Print the result\n",
    "print(average_pressure_by_month)"
   ]
  },
  {
   "cell_type": "code",
   "execution_count": 18,
   "metadata": {},
   "outputs": [
    {
     "data": {
      "image/png": "[encoded data removed]",
      "text/plain": [
       "<Figure size 600x450 with 1 Axes>"
      ]
     },
     "metadata": {},
     "output_type": "display_data"
    }
   ],
   "source": [
    "# Plot the average pressure by month\n",
    "# Sort the average low temperature data in ascending order\n",
    "sorted_low_pressure = average_pressure_by_month.sort_values()\n",
    "\n",
    "# Convert 'sorted_low_temp' Series to DataFrame for plotting\n",
    "sorted_low_pressure_df = sorted_low_pressure.reset_index()\n",
    "\n",
    "# Rename the columns\n",
    "sorted_low_pressure_df.columns = ['Month', 'Atmospheric Pressure']\n",
    "\n",
    "# Get unique months in the order they appear in the DataFrame\n",
    "desired_order = sorted_low_pressure_df['Month'].tolist()\n",
    "\n",
    "# Convert the \"Month\" column to strings\n",
    "sorted_low_pressure_df['Month'] = sorted_low_pressure_df['Month'].astype(str)\n",
    "\n",
    "# Set the \"Month\" column as a categorical variable with the desired order\n",
    "sorted_low_pressure_df['Month'] = pd.Categorical(sorted_low_pressure_df['Month'], categories=[str(m) for m in desired_order], ordered=True)\n",
    "\n",
    "# Create a bar plot with the desired order of months\n",
    "plt.figure(figsize=(6, 4.5))\n",
    "bar_width = 0.5\n",
    "plt.bar(sorted_low_pressure_df['Month'], sorted_low_pressure_df['Atmospheric Pressure'], width=bar_width, align='center')\n",
    "\n",
    "# Rotate x-tick labels\n",
    "plt.xticks(rotation=90)\n",
    "\n",
    "# Add labels and title\n",
    "plt.xlabel('month')\n",
    "plt.ylabel('Atmospheric Pressure')\n",
    "\n",
    "# Show the plot\n",
    "plt.tight_layout()\n",
    "plt.show()"
   ]
  },
  {
   "cell_type": "code",
   "execution_count": 19,
   "metadata": {},
   "outputs": [
    {
     "data": {
      "image/png": "[encoded data removed]",
      "text/plain": [
       "<Figure size 600x450 with 1 Axes>"
      ]
     },
     "metadata": {},
     "output_type": "display_data"
    }
   ],
   "source": [
    "# 5. How many terrestrial (earth) days are there in a Martian year?\n",
    "# Plot a line chart based on sols and temperature using mars_temp_data_df\n",
    "\n",
    "# Create a figure with the specified dimensions\n",
    "plt.figure(figsize=(6,4.5))\n",
    "\n",
    "# Create a line chart without markers\n",
    "plt.plot(mars_temp_data_df['sol'], mars_temp_data_df['min_temp'], linestyle='-')\n",
    "\n",
    "# Add labels and title\n",
    "plt.xlabel('Number of terrestial days')\n",
    "plt.ylabel('Minimum temperature')\n",
    "\n",
    "# Show the plot\n",
    "plt.tight_layout()\n",
    "plt.show()"
   ]
  },
  {
   "attachments": {},
   "cell_type": "markdown",
   "metadata": {},
   "source": [
    "On average, the third month has the coldest minimum temperature on Mars, and the eighth month is the warmest. But it is always very cold there in human terms!\n",
    "\n"
   ]
  },
  {
   "attachments": {},
   "cell_type": "markdown",
   "metadata": {},
   "source": [
    "Atmospheric pressure is, on average, lowest in the sixth month and highest in the ninth."
   ]
  },
  {
   "attachments": {},
   "cell_type": "markdown",
   "metadata": {},
   "source": [
    "The distance from peak to peak is roughly 1425-750, or 675 days. A year on Mars appears to be about 675 days from the plot. Internet search confirms that a Mars year is equivalent to 687 earth days."
   ]
  },
  {
   "attachments": {},
   "cell_type": "markdown",
   "metadata": {},
   "source": [
    "### Step 6: Save the Data\n",
    "\n",
    "Export the DataFrame to a CSV file."
   ]
  },
  {
   "cell_type": "code",
   "execution_count": 23,
   "metadata": {},
   "outputs": [],
   "source": [
    "# Write the data to a CSV\n",
    "\n",
    "mars_temp_data_df.to_csv('../mars_temperature_data.csv', index=False)\n"
   ]
  },
  {
   "cell_type": "code",
   "execution_count": 21,
   "metadata": {},
   "outputs": [],
   "source": [
    "browser.quit()"
   ]
  },
  {
   "cell_type": "code",
   "execution_count": null,
   "metadata": {},
   "outputs": [],
   "source": []
  }
 ],
 "metadata": {
  "kernelspec": {
   "display_name": "Python 3 (ipykernel)",
   "language": "python",
   "name": "python3"
  },
  "language_info": {
   "codemirror_mode": {
    "name": "ipython",
    "version": 3
   },
   "file_extension": ".py",
   "mimetype": "text/x-python",
   "name": "python",
   "nbconvert_exporter": "python",
   "pygments_lexer": "ipython3",
   "version": "3.12.1"
  },
  "vscode": {
   "interpreter": {
    "hash": "31f2aee4e71d21fbe5cf8b01ff0e069b9275f58929596ceb00d14d90e3e16cd6"
   }
  }
 },
 "nbformat": 4,
 "nbformat_minor": 4
}
